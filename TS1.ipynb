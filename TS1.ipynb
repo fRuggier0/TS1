{
 "cells": [
  {
   "cell_type": "markdown",
   "id": "86051c3e-6e6e-4acc-a0b1-b37e624a7e03",
   "metadata": {},
   "source": [
    "# Tarea semanal 1\n",
    "\n",
    "#### Franco Ruggiero"
   ]
  },
  {
   "cell_type": "markdown",
   "id": "5bce2896-1b94-44ba-954c-48a180ba83bb",
   "metadata": {},
   "source": [
    "> Dado el siguiente circuito: <center>![image_TS1](image_TS1.png)<center> "
   ]
  },
  {
   "cell_type": "markdown",
   "id": "3c580e39-7160-4b85-8bc8-613a26f39637",
   "metadata": {},
   "source": [
    "\n",
    "1. Obtener la función transferencia $\\frac{V_2}{V_1}$ (módulo , fase y diagrama de polos y ceros)."
   ]
  },
  {
   "cell_type": "markdown",
   "id": "18b155fc-2e66-4be2-a416-def6237d816f",
   "metadata": {},
   "source": [
    "> Para calcular la funcion transferencia comienzo planteando la ecuacion de la corriente que pasa a traves de las resistencias $R_1$ y $R_2$ ($I_2$), y la diferencia de potencial $V_A$ ubicada entre la \"pata\" no inversora y la referencia."
   ]
  },
  {
   "cell_type": "markdown",
   "id": "dce6651b-eeef-48a5-93c5-14f56c306a4b",
   "metadata": {},
   "source": [
    "\n",
    ">>## $\\left\\{\\begin{array}{l} I_2 = \\frac{V_1 - V_A}{R_1} = \\frac{V_A - V_2}{R_2} \\\\ V_A = V_1 * \\frac{S * C_1}{S * C_1 + G_3} = V_1 * \\frac{S * R_3 * C1}{S * R_3 * C_1 + 1} \\end{array}\\right.$"
   ]
  },
  {
   "cell_type": "markdown",
   "id": "8f4878ac-3a9c-4901-ba25-8db925564877",
   "metadata": {},
   "source": [
    "> Operando nos queda:"
   ]
  },
  {
   "cell_type": "markdown",
   "id": "c28f7ff3-ce2a-473b-adad-02e236ecd689",
   "metadata": {},
   "source": [
    ">>## $H_{(s)} = \\frac{s - \\frac{R_2}{R_1 * R_3 * C_1}}{s + \\frac{1}{R_3 * c_1}}$"
   ]
  },
  {
   "cell_type": "markdown",
   "id": "4b9869dd-5939-4356-a980-3d2b6d5bcbf5",
   "metadata": {},
   "source": [
    "> Reemplazando $s = jw$ y operando un poco obtendremos el modulo ($|H_{(s)}|^2$) y fase ($\\theta_{(s)}$) de la funcion transferencia:"
   ]
  },
  {
   "cell_type": "markdown",
   "id": "c511c538-4e54-40ba-9b41-12eb686a89e2",
   "metadata": {},
   "source": [
    ">>## $|H_{(s)}|^2 = \\frac{w^2 + (\\frac{R_2}{R_1R_3C_1})^2}{w^2 + (\\frac{1}{R_3C_1})^2}$\n",
    ">>\n",
    ">>## $\\theta_{(s)} = \\arctan(-\\frac{wR_1R_3C_1}{R_2}) - \\arctan(wR_3C_1)$\n"
   ]
  },
  {
   "cell_type": "markdown",
   "id": "cbecd12b-fc79-46ed-a52e-992d050478db",
   "metadata": {},
   "source": [
    "2. Proponga una norma de impedancia y frecuencia de forma tal de llegar a una transferencia normalizada."
   ]
  },
  {
   "cell_type": "markdown",
   "id": "64785079-1548-45d5-b133-2a55b43d5c0d",
   "metadata": {},
   "source": [
    "3. Proponga una norma de impedancia y frecuencia de forma tal de llegar a una transferencia normalizada."
   ]
  },
  {
   "cell_type": "markdown",
   "id": "3386c4b9-f3e4-4432-8327-8c820c3c005d",
   "metadata": {},
   "source": [
    "4. Simule la red normaliza en LTspice, y obtenga su respuesta en frecuencia"
   ]
  },
  {
   "cell_type": "markdown",
   "id": "8eb925cd-6093-4d6c-a93d-4950829300df",
   "metadata": {},
   "source": [
    "5. ¿Qué tipo de filtro es? ¿Qué utilidad podría tener este tipo de circuitos?\n"
   ]
  },
  {
   "cell_type": "code",
   "execution_count": null,
   "id": "befa3f16-5c0d-414b-843d-1724b7640060",
   "metadata": {},
   "outputs": [],
   "source": []
  }
 ],
 "metadata": {
  "kernelspec": {
   "display_name": "Python 3 (ipykernel)",
   "language": "python",
   "name": "python3"
  },
  "language_info": {
   "codemirror_mode": {
    "name": "ipython",
    "version": 3
   },
   "file_extension": ".py",
   "mimetype": "text/x-python",
   "name": "python",
   "nbconvert_exporter": "python",
   "pygments_lexer": "ipython3",
   "version": "3.10.12"
  }
 },
 "nbformat": 4,
 "nbformat_minor": 5
}
